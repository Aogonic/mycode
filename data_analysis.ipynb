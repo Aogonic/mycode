{
 "cells": [
  {
   "cell_type": "markdown",
   "metadata": {},
   "source": [
    "##### 展示数据填充率，标准差等信息"
   ]
  },
  {
   "cell_type": "code",
   "execution_count": null,
   "metadata": {
    "collapsed": true
   },
   "outputs": [],
   "source": [
    "pd.set_option('display.max_columns',200)\n",
    "train_B.describe()"
   ]
  },
  {
   "cell_type": "code",
   "execution_count": null,
   "metadata": {
    "collapsed": true
   },
   "outputs": [],
   "source": [
    "#查看数据类型\n",
    "train_B.info()\n",
    "train_B.dtypes[train_B.dtypes == np.int64]\n"
   ]
  },
  {
   "cell_type": "code",
   "execution_count": null,
   "metadata": {
    "collapsed": true
   },
   "outputs": [],
   "source": [
    "#查看数据内容类别\n",
    "train_B['UserInfo_170'].unique()\n",
    "\n",
    "train_B = train_B.drop('UserInfo_170',axis=1)\n"
   ]
  },
  {
   "cell_type": "markdown",
   "metadata": {},
   "source": [
    "- 严重缺失的特征会给模型带来极大的噪音,模型在学习的过程中会被较大程度的干扰,所以为了增加模型的鲁棒性,我们考虑将含有大的噪音的数据进行删除.此处我们设立阈值为1%,我们将缺失的特征大于99%的特征删除.(阈值可以自己进行调整)."
   ]
  },
  {
   "cell_type": "code",
   "execution_count": null,
   "metadata": {
    "collapsed": true
   },
   "outputs": [],
   "source": [
    "train_B_info = train_B.describe()\n",
    "\n",
    "meaningful_col = []\n",
    "for col in train_B_info.columns: \n",
    "    if train_B_info.ix[0,col] > train_B.shape[0] * 0.01:\n",
    "           meaningful_col.append(col)"
   ]
  },
  {
   "cell_type": "markdown",
   "metadata": {},
   "source": [
    "- 关于缺失值的处理,不同的问题有不同的处理方式,有的时候我们需要对其进行删除,有时会进行填充(填充的方式也有不同,后续我们会选择特定的问题进行阐述),此处我们仅仅介绍和贷款类业务相关的处理:\n",
    "\n",
    "- 在贷款业务中,很多缺失值是有实际意义的,它们往往来源于用户故意不填写,或者没有,所以我们没法搜集这些数据,这个需要一些简单的业务理解.而针对这样的情况,一个非常有效的方式是直接填充某一个值(可以是-100,999等其他值)[6],此处我们直接用-999进行填充."
   ]
  },
  {
   "cell_type": "markdown",
   "metadata": {},
   "source": [
    "#### 高线性相关性数据处理\n",
    "\n",
    "- 如果两个特征是完全线性相关的,这个时候我们仅仅只需要保留其中一个即可.因为第二个特征包含的信息基本完全被第一个特征所包含.此时如果两个特征同时保留的话,模型的性能很大情况下会出现下降的情况."
   ]
  },
  {
   "cell_type": "code",
   "execution_count": null,
   "metadata": {
    "collapsed": true
   },
   "outputs": [],
   "source": [
    "# 我们选择将高线性相关的特征进行删除[7].\n",
    "relation = train_B_1.corr()\n",
    "length = relation.shape[0]\n",
    "high_corr = list()\n",
    "final_cols = []\n",
    "del_cols =[]\n",
    "for i in range(length):\n",
    "    if relation.columns[i] not in del_cols:\n",
    "        final_cols.append(relation.columns[i])\n",
    "        for j in range(i+1,length):\n",
    "            if (relation.iloc[i,j] > 0.98) and (relation.columns[j] not in del_cols):\n",
    "                del_cols.append(relation.columns[j])\n",
    "\n",
    "train_B_1 = train_B_1[final_cols]\n"
   ]
  },
  {
   "cell_type": "markdown",
   "metadata": {},
   "source": [
    "- 为了能够复现成绩,注意在每个算法的包中都有一个随机种子,在XGBoost里面就是random_seed"
   ]
  },
  {
   "cell_type": "code",
   "execution_count": null,
   "metadata": {
    "collapsed": true
   },
   "outputs": [],
   "source": [
    "import xgboost as xgb\n",
    "\n",
    "Trate=0.25  \n",
    "params = {'booster':'gbtree',\n",
    "                  'eta': 0.1,\n",
    "                   'max_depth': 4,\n",
    "                   'max_delta_step': 0,\n",
    "                   'subsample':0.9,      \n",
    "                   'colsample_bytree': 0.9,\n",
    "                   'base_score': Trate,\n",
    "                   'objective': 'binary:logistic',\n",
    "                   'lambda':5,\n",
    "                   'alpha':8,\n",
    "                   'random_seed':100\n",
    "                   }\n",
    "params['eval_metric'] = 'auc' \n",
    "xgb_model = xgb.train(params,dtrain_B,num_boost_round=200,maximize=True,verbose_eval=True)  \n"
   ]
  },
  {
   "cell_type": "code",
   "execution_count": null,
   "metadata": {
    "collapsed": true
   },
   "outputs": [],
   "source": []
  },
  {
   "cell_type": "code",
   "execution_count": null,
   "metadata": {
    "collapsed": true
   },
   "outputs": [],
   "source": []
  },
  {
   "cell_type": "code",
   "execution_count": null,
   "metadata": {
    "collapsed": true
   },
   "outputs": [],
   "source": []
  },
  {
   "cell_type": "code",
   "execution_count": null,
   "metadata": {
    "collapsed": true
   },
   "outputs": [],
   "source": []
  },
  {
   "cell_type": "code",
   "execution_count": null,
   "metadata": {
    "collapsed": true
   },
   "outputs": [],
   "source": []
  },
  {
   "cell_type": "code",
   "execution_count": null,
   "metadata": {
    "collapsed": true
   },
   "outputs": [],
   "source": []
  },
  {
   "cell_type": "code",
   "execution_count": null,
   "metadata": {
    "collapsed": true
   },
   "outputs": [],
   "source": []
  },
  {
   "cell_type": "code",
   "execution_count": null,
   "metadata": {
    "collapsed": true
   },
   "outputs": [],
   "source": []
  },
  {
   "cell_type": "code",
   "execution_count": null,
   "metadata": {
    "collapsed": true
   },
   "outputs": [],
   "source": []
  },
  {
   "cell_type": "code",
   "execution_count": null,
   "metadata": {
    "collapsed": true
   },
   "outputs": [],
   "source": []
  },
  {
   "cell_type": "code",
   "execution_count": null,
   "metadata": {
    "collapsed": true
   },
   "outputs": [],
   "source": []
  },
  {
   "cell_type": "code",
   "execution_count": null,
   "metadata": {
    "collapsed": true
   },
   "outputs": [],
   "source": []
  },
  {
   "cell_type": "code",
   "execution_count": null,
   "metadata": {
    "collapsed": true
   },
   "outputs": [],
   "source": []
  },
  {
   "cell_type": "code",
   "execution_count": null,
   "metadata": {
    "collapsed": true
   },
   "outputs": [],
   "source": []
  },
  {
   "cell_type": "code",
   "execution_count": null,
   "metadata": {
    "collapsed": true
   },
   "outputs": [],
   "source": []
  }
 ],
 "metadata": {
  "kernelspec": {
   "display_name": "Python 3",
   "language": "python",
   "name": "python3"
  },
  "language_info": {
   "codemirror_mode": {
    "name": "ipython",
    "version": 3
   },
   "file_extension": ".py",
   "mimetype": "text/x-python",
   "name": "python",
   "nbconvert_exporter": "python",
   "pygments_lexer": "ipython3",
   "version": "3.6.3"
  }
 },
 "nbformat": 4,
 "nbformat_minor": 2
}
